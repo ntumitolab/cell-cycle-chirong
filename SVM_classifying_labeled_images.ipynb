{
 "cells": [
  {
   "cell_type": "code",
   "execution_count": 1,
   "metadata": {},
   "outputs": [],
   "source": [
    "import pandas as pd\n",
    "import numpy as np\n",
    "from sklearn.svm import SVC\n",
    "import tifffile\n",
    "import os\n",
    "import joblib\n"
   ]
  },
  {
   "cell_type": "code",
   "execution_count": 3,
   "metadata": {},
   "outputs": [],
   "source": [
    "folder = 'path to the analyses of mitochondria'\n",
    "\n",
    "file = folder + 'Analyze_Particle/summary/'\n",
    "\n",
    "RFP = []\n",
    "GFP = []\n",
    "for filename in os.listdir(file):\n",
    "    if filename.endswith(\".csv\") and 'rfp' in filename:\n",
    "        RFP.append(filename)       \n",
    "\n",
    "    elif filename.endswith(\".csv\") and 'gfp' in filename:\n",
    "        GFP.append(filename)\n",
    "    "
   ]
  },
  {
   "cell_type": "code",
   "execution_count": 4,
   "metadata": {},
   "outputs": [],
   "source": [
    "rfpimage = []\n",
    "gfpimage = []\n",
    "for i in range(len(RFP)):\n",
    "    #temp = RFP[i].split('.')[0]\n",
    "    #temp = temp.replace('_','/')\n",
    "    rfpimage.append('path to the image of cell at G1 phase containing nucleus')\n",
    "    \n",
    "for i in range(len(GFP)):\n",
    "    #temp = GFP[i].split('.')[0]\n",
    "    #temp = temp.replace('_','/')\n",
    "    gfpimage.append('path to the image of cell atS/G2 phases containing nucleus')\n",
    "\n",
    "image_path = [rfpimage,gfpimage]\n"
   ]
  },
  {
   "cell_type": "code",
   "execution_count": 6,
   "metadata": {},
   "outputs": [
    {
     "data": {
      "text/plain": [
       "[['D:/YR_classification/data/2vector_data/rfp/20220331/1/0/1.tiff',\n",
       "  'D:/YR_classification/data/2vector_data/rfp/20220331/1/0/2.tiff',\n",
       "  'D:/YR_classification/data/2vector_data/rfp/20220331/1/0/3.tiff',\n",
       "  'D:/YR_classification/data/2vector_data/rfp/20220331/1/0/4.tiff',\n",
       "  'D:/YR_classification/data/2vector_data/rfp/20220331/1/0/5.tiff',\n",
       "  'D:/YR_classification/data/2vector_data/rfp/20220331/1/0/6.tiff',\n",
       "  'D:/YR_classification/data/2vector_data/rfp/20220331/1/0/7.tiff',\n",
       "  'D:/YR_classification/data/2vector_data/rfp/20220331/3/0/0.tiff',\n",
       "  'D:/YR_classification/data/2vector_data/rfp/20220331/3/0/1.tiff',\n",
       "  'D:/YR_classification/data/2vector_data/rfp/20220331/3/0/2.tiff',\n",
       "  'D:/YR_classification/data/2vector_data/rfp/20220331/3/1/0.tiff',\n",
       "  'D:/YR_classification/data/2vector_data/rfp/20220331/3/1/1.tiff',\n",
       "  'D:/YR_classification/data/2vector_data/rfp/20220331/3/1/10.tiff',\n",
       "  'D:/YR_classification/data/2vector_data/rfp/20220331/3/1/11.tiff',\n",
       "  'D:/YR_classification/data/2vector_data/rfp/20220331/3/1/12.tiff',\n",
       "  'D:/YR_classification/data/2vector_data/rfp/20220331/3/1/13.tiff',\n",
       "  'D:/YR_classification/data/2vector_data/rfp/20220331/3/1/14.tiff',\n",
       "  'D:/YR_classification/data/2vector_data/rfp/20220331/3/1/15.tiff',\n",
       "  'D:/YR_classification/data/2vector_data/rfp/20220331/3/1/16.tiff',\n",
       "  'D:/YR_classification/data/2vector_data/rfp/20220331/3/1/17.tiff',\n",
       "  'D:/YR_classification/data/2vector_data/rfp/20220331/3/1/18.tiff',\n",
       "  'D:/YR_classification/data/2vector_data/rfp/20220331/3/1/19.tiff',\n",
       "  'D:/YR_classification/data/2vector_data/rfp/20220331/3/1/2.tiff',\n",
       "  'D:/YR_classification/data/2vector_data/rfp/20220331/3/1/20.tiff',\n",
       "  'D:/YR_classification/data/2vector_data/rfp/20220331/3/1/3.tiff',\n",
       "  'D:/YR_classification/data/2vector_data/rfp/20220331/3/1/4.tiff',\n",
       "  'D:/YR_classification/data/2vector_data/rfp/20220331/3/1/5.tiff',\n",
       "  'D:/YR_classification/data/2vector_data/rfp/20220331/3/1/6.tiff',\n",
       "  'D:/YR_classification/data/2vector_data/rfp/20220331/3/1/7.tiff',\n",
       "  'D:/YR_classification/data/2vector_data/rfp/20220331/3/1/8.tiff',\n",
       "  'D:/YR_classification/data/2vector_data/rfp/20220331/3/1/9.tiff'],\n",
       " ['D:/YR_classification/data/2vector_data/gfp/20220331/1/0/1.tiff',\n",
       "  'D:/YR_classification/data/2vector_data/gfp/20220331/1/0/10.tiff',\n",
       "  'D:/YR_classification/data/2vector_data/gfp/20220331/1/0/11.tiff',\n",
       "  'D:/YR_classification/data/2vector_data/gfp/20220331/1/0/12.tiff',\n",
       "  'D:/YR_classification/data/2vector_data/gfp/20220331/1/0/13.tiff',\n",
       "  'D:/YR_classification/data/2vector_data/gfp/20220331/1/0/14.tiff',\n",
       "  'D:/YR_classification/data/2vector_data/gfp/20220331/1/0/15.tiff',\n",
       "  'D:/YR_classification/data/2vector_data/gfp/20220331/1/0/16.tiff',\n",
       "  'D:/YR_classification/data/2vector_data/gfp/20220331/1/0/17.tiff',\n",
       "  'D:/YR_classification/data/2vector_data/gfp/20220331/1/0/18.tiff',\n",
       "  'D:/YR_classification/data/2vector_data/gfp/20220331/1/0/19.tiff',\n",
       "  'D:/YR_classification/data/2vector_data/gfp/20220331/1/0/2.tiff',\n",
       "  'D:/YR_classification/data/2vector_data/gfp/20220331/1/0/20.tiff',\n",
       "  'D:/YR_classification/data/2vector_data/gfp/20220331/1/0/21.tiff',\n",
       "  'D:/YR_classification/data/2vector_data/gfp/20220331/1/0/22.tiff',\n",
       "  'D:/YR_classification/data/2vector_data/gfp/20220331/1/0/23.tiff',\n",
       "  'D:/YR_classification/data/2vector_data/gfp/20220331/1/0/24.tiff',\n",
       "  'D:/YR_classification/data/2vector_data/gfp/20220331/1/0/25.tiff',\n",
       "  'D:/YR_classification/data/2vector_data/gfp/20220331/1/0/26.tiff',\n",
       "  'D:/YR_classification/data/2vector_data/gfp/20220331/1/0/27.tiff',\n",
       "  'D:/YR_classification/data/2vector_data/gfp/20220331/1/0/28.tiff',\n",
       "  'D:/YR_classification/data/2vector_data/gfp/20220331/1/0/29.tiff',\n",
       "  'D:/YR_classification/data/2vector_data/gfp/20220331/1/0/3.tiff',\n",
       "  'D:/YR_classification/data/2vector_data/gfp/20220331/1/0/30.tiff',\n",
       "  'D:/YR_classification/data/2vector_data/gfp/20220331/1/0/31.tiff',\n",
       "  'D:/YR_classification/data/2vector_data/gfp/20220331/1/0/32.tiff',\n",
       "  'D:/YR_classification/data/2vector_data/gfp/20220331/1/0/33.tiff',\n",
       "  'D:/YR_classification/data/2vector_data/gfp/20220331/1/0/34.tiff',\n",
       "  'D:/YR_classification/data/2vector_data/gfp/20220331/1/0/35.tiff',\n",
       "  'D:/YR_classification/data/2vector_data/gfp/20220331/1/0/36.tiff',\n",
       "  'D:/YR_classification/data/2vector_data/gfp/20220331/1/0/37.tiff',\n",
       "  'D:/YR_classification/data/2vector_data/gfp/20220331/1/0/38.tiff',\n",
       "  'D:/YR_classification/data/2vector_data/gfp/20220331/1/0/39.tiff',\n",
       "  'D:/YR_classification/data/2vector_data/gfp/20220331/1/0/4.tiff',\n",
       "  'D:/YR_classification/data/2vector_data/gfp/20220331/1/0/5.tiff',\n",
       "  'D:/YR_classification/data/2vector_data/gfp/20220331/1/0/6.tiff',\n",
       "  'D:/YR_classification/data/2vector_data/gfp/20220331/1/0/7.tiff',\n",
       "  'D:/YR_classification/data/2vector_data/gfp/20220331/1/0/8.tiff',\n",
       "  'D:/YR_classification/data/2vector_data/gfp/20220331/1/0/9.tiff',\n",
       "  'D:/YR_classification/data/2vector_data/gfp/20220331/2/0/1.tiff',\n",
       "  'D:/YR_classification/data/2vector_data/gfp/20220331/2/0/10.tiff',\n",
       "  'D:/YR_classification/data/2vector_data/gfp/20220331/2/0/11.tiff',\n",
       "  'D:/YR_classification/data/2vector_data/gfp/20220331/2/0/12.tiff',\n",
       "  'D:/YR_classification/data/2vector_data/gfp/20220331/2/0/13.tiff',\n",
       "  'D:/YR_classification/data/2vector_data/gfp/20220331/2/0/14.tiff',\n",
       "  'D:/YR_classification/data/2vector_data/gfp/20220331/2/0/15.tiff',\n",
       "  'D:/YR_classification/data/2vector_data/gfp/20220331/2/0/16.tiff',\n",
       "  'D:/YR_classification/data/2vector_data/gfp/20220331/2/0/17.tiff',\n",
       "  'D:/YR_classification/data/2vector_data/gfp/20220331/2/0/18.tiff',\n",
       "  'D:/YR_classification/data/2vector_data/gfp/20220331/2/0/19.tiff',\n",
       "  'D:/YR_classification/data/2vector_data/gfp/20220331/2/0/2.tiff',\n",
       "  'D:/YR_classification/data/2vector_data/gfp/20220331/2/0/20.tiff',\n",
       "  'D:/YR_classification/data/2vector_data/gfp/20220331/2/0/21.tiff',\n",
       "  'D:/YR_classification/data/2vector_data/gfp/20220331/2/0/22.tiff',\n",
       "  'D:/YR_classification/data/2vector_data/gfp/20220331/2/0/23.tiff',\n",
       "  'D:/YR_classification/data/2vector_data/gfp/20220331/2/0/24.tiff',\n",
       "  'D:/YR_classification/data/2vector_data/gfp/20220331/2/0/25.tiff',\n",
       "  'D:/YR_classification/data/2vector_data/gfp/20220331/2/0/26.tiff',\n",
       "  'D:/YR_classification/data/2vector_data/gfp/20220331/2/0/27.tiff',\n",
       "  'D:/YR_classification/data/2vector_data/gfp/20220331/2/0/28.tiff',\n",
       "  'D:/YR_classification/data/2vector_data/gfp/20220331/2/0/29.tiff',\n",
       "  'D:/YR_classification/data/2vector_data/gfp/20220331/2/0/3.tiff',\n",
       "  'D:/YR_classification/data/2vector_data/gfp/20220331/2/0/30.tiff',\n",
       "  'D:/YR_classification/data/2vector_data/gfp/20220331/2/0/31.tiff',\n",
       "  'D:/YR_classification/data/2vector_data/gfp/20220331/2/0/32.tiff',\n",
       "  'D:/YR_classification/data/2vector_data/gfp/20220331/2/0/33.tiff',\n",
       "  'D:/YR_classification/data/2vector_data/gfp/20220331/2/0/34.tiff',\n",
       "  'D:/YR_classification/data/2vector_data/gfp/20220331/2/0/35.tiff',\n",
       "  'D:/YR_classification/data/2vector_data/gfp/20220331/2/0/36.tiff',\n",
       "  'D:/YR_classification/data/2vector_data/gfp/20220331/2/0/37.tiff',\n",
       "  'D:/YR_classification/data/2vector_data/gfp/20220331/2/0/38.tiff',\n",
       "  'D:/YR_classification/data/2vector_data/gfp/20220331/2/0/39.tiff',\n",
       "  'D:/YR_classification/data/2vector_data/gfp/20220331/2/0/4.tiff',\n",
       "  'D:/YR_classification/data/2vector_data/gfp/20220331/2/0/5.tiff',\n",
       "  'D:/YR_classification/data/2vector_data/gfp/20220331/2/0/6.tiff',\n",
       "  'D:/YR_classification/data/2vector_data/gfp/20220331/2/0/7.tiff',\n",
       "  'D:/YR_classification/data/2vector_data/gfp/20220331/2/0/8.tiff',\n",
       "  'D:/YR_classification/data/2vector_data/gfp/20220331/2/0/9.tiff',\n",
       "  'D:/YR_classification/data/2vector_data/gfp/20220331/4/0/1.tiff',\n",
       "  'D:/YR_classification/data/2vector_data/gfp/20220331/4/0/10.tiff',\n",
       "  'D:/YR_classification/data/2vector_data/gfp/20220331/4/0/11.tiff',\n",
       "  'D:/YR_classification/data/2vector_data/gfp/20220331/4/0/12.tiff',\n",
       "  'D:/YR_classification/data/2vector_data/gfp/20220331/4/0/13.tiff',\n",
       "  'D:/YR_classification/data/2vector_data/gfp/20220331/4/0/14.tiff',\n",
       "  'D:/YR_classification/data/2vector_data/gfp/20220331/4/0/15.tiff',\n",
       "  'D:/YR_classification/data/2vector_data/gfp/20220331/4/0/16.tiff',\n",
       "  'D:/YR_classification/data/2vector_data/gfp/20220331/4/0/17.tiff',\n",
       "  'D:/YR_classification/data/2vector_data/gfp/20220331/4/0/18.tiff',\n",
       "  'D:/YR_classification/data/2vector_data/gfp/20220331/4/0/19.tiff',\n",
       "  'D:/YR_classification/data/2vector_data/gfp/20220331/4/0/2.tiff',\n",
       "  'D:/YR_classification/data/2vector_data/gfp/20220331/4/0/20.tiff',\n",
       "  'D:/YR_classification/data/2vector_data/gfp/20220331/4/0/21.tiff',\n",
       "  'D:/YR_classification/data/2vector_data/gfp/20220331/4/0/22.tiff',\n",
       "  'D:/YR_classification/data/2vector_data/gfp/20220331/4/0/23.tiff',\n",
       "  'D:/YR_classification/data/2vector_data/gfp/20220331/4/0/24.tiff',\n",
       "  'D:/YR_classification/data/2vector_data/gfp/20220331/4/0/25.tiff',\n",
       "  'D:/YR_classification/data/2vector_data/gfp/20220331/4/0/26.tiff',\n",
       "  'D:/YR_classification/data/2vector_data/gfp/20220331/4/0/27.tiff',\n",
       "  'D:/YR_classification/data/2vector_data/gfp/20220331/4/0/28.tiff',\n",
       "  'D:/YR_classification/data/2vector_data/gfp/20220331/4/0/29.tiff',\n",
       "  'D:/YR_classification/data/2vector_data/gfp/20220331/4/0/3.tiff',\n",
       "  'D:/YR_classification/data/2vector_data/gfp/20220331/4/0/30.tiff',\n",
       "  'D:/YR_classification/data/2vector_data/gfp/20220331/4/0/31.tiff',\n",
       "  'D:/YR_classification/data/2vector_data/gfp/20220331/4/0/32.tiff',\n",
       "  'D:/YR_classification/data/2vector_data/gfp/20220331/4/0/33.tiff',\n",
       "  'D:/YR_classification/data/2vector_data/gfp/20220331/4/0/34.tiff',\n",
       "  'D:/YR_classification/data/2vector_data/gfp/20220331/4/0/35.tiff',\n",
       "  'D:/YR_classification/data/2vector_data/gfp/20220331/4/0/36.tiff',\n",
       "  'D:/YR_classification/data/2vector_data/gfp/20220331/4/0/37.tiff',\n",
       "  'D:/YR_classification/data/2vector_data/gfp/20220331/4/0/38.tiff',\n",
       "  'D:/YR_classification/data/2vector_data/gfp/20220331/4/0/39.tiff',\n",
       "  'D:/YR_classification/data/2vector_data/gfp/20220331/4/0/4.tiff',\n",
       "  'D:/YR_classification/data/2vector_data/gfp/20220331/4/0/5.tiff',\n",
       "  'D:/YR_classification/data/2vector_data/gfp/20220331/4/0/6.tiff',\n",
       "  'D:/YR_classification/data/2vector_data/gfp/20220331/4/0/7.tiff',\n",
       "  'D:/YR_classification/data/2vector_data/gfp/20220331/4/0/8.tiff',\n",
       "  'D:/YR_classification/data/2vector_data/gfp/20220331/4/0/9.tiff']]"
      ]
     },
     "execution_count": 6,
     "metadata": {},
     "output_type": "execute_result"
    }
   ],
   "source": [
    "image_path"
   ]
  },
  {
   "cell_type": "code",
   "execution_count": 16,
   "metadata": {},
   "outputs": [],
   "source": [
    "nucleus_area = [[],[]]\n",
    "\n",
    "for i in range(2):\n",
    "    for j in range(len(image_path[i])):\n",
    "        img = tifffile.imread(image_path[i][j])\n",
    "        imgb = (img[0] > (img[0].mean()+0.5*img[0].std())).astype(np.uint8)*255\n",
    "        count = np.count_nonzero(imgb)\n",
    "        nucleus_area[i].append(0.26 * 0.26 *count)\n"
   ]
  },
  {
   "cell_type": "code",
   "execution_count": 7,
   "metadata": {},
   "outputs": [],
   "source": [
    "tox = [\"rfp\", \"gfp\"]\n",
    "file_name_list = [RFP, GFP]\n",
    "Count = [[],[]]\n",
    "nCount = [[],[]]\n",
    "TotalArea = [[],[]]\n",
    "AverageArea = [[],[]]\n",
    "Perimeter = [[],[]]\n",
    "FormFactor = [[],[]]\n",
    "\n",
    "for i in range(len(tox)):\n",
    "    for j in range(len(file_name_list[i])):\n",
    "        df = pd.read_csv(folder + f'Analyze_Particle/summary/{file_name_list[i][j]}', index_col=0)\n",
    "        Count[i].append(float(df['Count']))\n",
    "        TotalArea[i].append(float(df['Total Area']))\n",
    "        AverageArea[i].append(float(df['Average Size']))\n",
    "        Perimeter[i].append(float(df['Perim.']))\n",
    "        FormFactor[i].append(np.reciprocal(float(df['Circ.'])))\n",
    "        nCount[i].append(float(df['Count'])/float(df['Total Area']))\n"
   ]
  },
  {
   "cell_type": "code",
   "execution_count": 8,
   "metadata": {},
   "outputs": [],
   "source": [
    "file_p_results = folder + 'Analyze_Particle/results/'"
   ]
  },
  {
   "cell_type": "code",
   "execution_count": 9,
   "metadata": {},
   "outputs": [],
   "source": [
    "RFP = []\n",
    "GFP = []\n",
    "for filename in os.listdir(file_p_results):\n",
    "    if filename.endswith(\".csv\") and 'rfp' in filename:\n",
    "        RFP.append(filename)       \n",
    "\n",
    "    elif filename.endswith(\".csv\") and 'gfp' in filename:\n",
    "        GFP.append(filename)\n"
   ]
  },
  {
   "cell_type": "code",
   "execution_count": 10,
   "metadata": {},
   "outputs": [],
   "source": [
    "tox = [\"rfp\", \"gfp\"]\n",
    "file_name_list = [RFP, GFP]\n",
    "AspectRatio = [[],[]]\n",
    "MaxArea = [[],[]]\n",
    "\n",
    "for i in range(len(tox)):\n",
    "    for j in range(len(file_name_list[i])):\n",
    "        df = pd.read_csv(folder + f'Analyze_Particle/results/{file_name_list[i][j]}', index_col=0)\n",
    "        AspectRatio[i].append(df['AR'].mean())\n",
    "        MaxArea[i].append(df.loc[df['Area'].idxmax()]['Area'])\n",
    "        "
   ]
  },
  {
   "cell_type": "code",
   "execution_count": 11,
   "metadata": {},
   "outputs": [],
   "source": [
    "RFP_total_area = np.array(TotalArea[0])\n",
    "GFP_total_area = np.array(TotalArea[1])\n"
   ]
  },
  {
   "cell_type": "code",
   "execution_count": 12,
   "metadata": {},
   "outputs": [],
   "source": [
    "RFP_max_area = np.array(MaxArea[0])\n",
    "GFP_max_area = np.array(MaxArea[1])\n",
    "\n",
    "RFP_temp_data = RFP_max_area/RFP_total_area\n",
    "GFP_temp_data = GFP_max_area/GFP_total_area\n",
    "\n",
    "MaxTotal = [RFP_temp_data, GFP_temp_data]\n",
    "\n"
   ]
  },
  {
   "cell_type": "code",
   "execution_count": 13,
   "metadata": {},
   "outputs": [],
   "source": [
    "file_s_summary = folder + 'Analyze_Skeleton/summary/'   \n",
    "\n",
    "RFP = []\n",
    "GFP = []\n",
    "\n",
    "for filename in os.listdir(file_s_summary):\n",
    "    if filename.endswith(\".csv\") and 'rfp' in filename:\n",
    "        RFP.append(filename)       \n",
    "\n",
    "    elif filename.endswith(\".csv\") and 'gfp' in filename:\n",
    "        GFP.append(filename)\n",
    "\n",
    "tox = [\"rfp\", \"gfp\"]\n",
    "file_name_list = [RFP, GFP]\n",
    "\n",
    "TotalBranches = [[],[]]\n",
    "AvgBranches = [[],[]]\n",
    "ABL = [[],[]]\n",
    "BLpM = [[],[]]\n",
    "TotalDeg1 = [[],[]]\n",
    "TotalDeg2 = [[],[]]\n",
    "TotalDeg3 = [[],[]]\n",
    "AvgDeg1 = [[],[]]\n",
    "AvgDeg2 = [[],[]]\n",
    "AvgDeg3 = [[],[]]\n",
    "AvgDeg = [[],[]]\n",
    "\n",
    "\n",
    "\n",
    "\n",
    "for i in range(len(tox)):\n",
    "    for j in range(len(file_name_list[i])):\n",
    "        df = pd.read_csv(folder + f'Analyze_Skeleton/summary/{file_name_list[i][j]}', index_col=0)\n",
    "        # Calculate deg 2\n",
    "        fake_deg2 = np.zeros(df[df.columns[0]].count())\n",
    "        deg2 = np.zeros(df[df.columns[0]].count())\n",
    "        real_ABL = np.sum(df['# Branches'] * df['Average Branch Length']) / np.sum(df['# Branches'])\n",
    "        for k in range(len(deg2)):\n",
    "            fake_deg2[k] = (df['# Branches'][k+1] * df['Average Branch Length'][k+1]) / real_ABL\n",
    "            dif = round(fake_deg2[k] - (df['# End-point voxels'][k+1] + df['# Junctions'][k+1])) # dif = #2 - (#1 + #3), 0)\n",
    "            if dif <= 0:\n",
    "                deg2[k] = 0\n",
    "            elif dif > 0 :\n",
    "                deg2[k] = dif\n",
    "        df['fake_Deg2'] = fake_deg2\n",
    "        df['Deg2'] = deg2\n",
    "        \n",
    "        TotalBranches[i].append(df['# Branches'].sum())\n",
    "        AvgBranches[i].append(df['# Branches'].mean())\n",
    "        ABL[i].append(df['Average Branch Length'].mean())\n",
    "        BLpM[i].append((df['# Branches'] * df['Average Branch Length']).mean())\n",
    "        TotalDeg1[i].append(df['# End-point voxels'].sum())\n",
    "        TotalDeg2[i].append(df['Deg2'].sum())\n",
    "        TotalDeg3[i].append(df['# Junctions'].sum())\n",
    "        AvgDeg1[i].append(df['# End-point voxels'].mean())\n",
    "        AvgDeg2[i].append(df['Deg2'].mean())\n",
    "        AvgDeg3[i].append(df['# Junctions'].mean())\n",
    "        avgdeg = (df['# End-point voxels'].sum() + 2*df['Deg2'].sum() + 3*df['# Junctions'].sum()) / (df['# End-point voxels'].sum() + df['Deg2'].sum() + df['# Junctions'].sum())\n",
    "        AvgDeg[i].append(avgdeg)\n",
    "        \n",
    "RFP_TotalDeg1 = np.array(TotalDeg1[0])\n",
    "GFP_TotalDeg1 = np.array(TotalDeg1[1])\n",
    "\n",
    "RFP_TotalDeg2 = np.array(TotalDeg2[0])\n",
    "GFP_TotalDeg2 = np.array(TotalDeg2[1])\n",
    "\n",
    "RFP_TotalDeg3 = np.array(TotalDeg3[0])\n",
    "GFP_TotalDeg3 = np.array(TotalDeg3[1])\n",
    "\n",
    "# Deg1_to_Deg3\n",
    "RFP_temp_data = RFP_TotalDeg1/RFP_TotalDeg3\n",
    "GFP_temp_data = GFP_TotalDeg1/GFP_TotalDeg3\n",
    "Deg1_to_Deg3 = [RFP_temp_data, GFP_temp_data]\n",
    "\n",
    "# nDeg1\n",
    "RFP_temp_data = RFP_TotalDeg1/RFP_total_area\n",
    "GFP_temp_data = GFP_TotalDeg1/GFP_total_area\n",
    "nDeg1 = [RFP_temp_data, GFP_temp_data]\n",
    "\n",
    "#nDeg2\n",
    "RFP_temp_data = RFP_TotalDeg2/RFP_total_area\n",
    "GFP_temp_data = GFP_TotalDeg2/GFP_total_area\n",
    "nDeg2 = [RFP_temp_data, GFP_temp_data]\n",
    "\n",
    "#nDeg3\n",
    "RFP_temp_data = RFP_TotalDeg3/RFP_total_area\n",
    "GFP_temp_data = GFP_TotalDeg3/GFP_total_area\n",
    "nDeg3 = [RFP_temp_data, GFP_temp_data]"
   ]
  },
  {
   "cell_type": "code",
   "execution_count": 14,
   "metadata": {},
   "outputs": [],
   "source": [
    "# skip if the data is not labeled\n",
    "label = []\n",
    "for i in range(len(tox)):\n",
    "    for j in range(len(file_name_list[i])):\n",
    "        if i == 0:\n",
    "            label.append(1)\n",
    "        else:\n",
    "            label.append(0)"
   ]
  },
  {
   "cell_type": "code",
   "execution_count": 17,
   "metadata": {},
   "outputs": [],
   "source": [
    "data = {'normal_count':nCount[0]+nCount[1],\n",
    "        'Average Branches':AvgBranches[0]+AvgBranches[1],\n",
    "        'Average Degree':AvgDeg[0]+AvgDeg[1],\n",
    "        'AVerage Area':AverageArea[0]+AverageArea[1],\n",
    "        'Perimeter':Perimeter[0]+Perimeter[1],\n",
    "        'nuclei_area':nucleus_area[0]+nucleus_area[1],\n",
    "        'label':label\n",
    "       }\n",
    "df_data = pd.DataFrame(data)\n"
   ]
  },
  {
   "cell_type": "code",
   "execution_count": 20,
   "metadata": {},
   "outputs": [],
   "source": [
    "df_data.to_csv(folder + 'SVMdata.csv',index=False)"
   ]
  },
  {
   "cell_type": "markdown",
   "metadata": {},
   "source": [
    "For labeled data"
   ]
  },
  {
   "cell_type": "code",
   "execution_count": 21,
   "metadata": {},
   "outputs": [],
   "source": [
    "def acc(y1,y2):\n",
    "    a = np.array(y1)==np.array(y2)\n",
    "    accuracy = sum(a)/len(a)\n",
    "    return accuracy"
   ]
  },
  {
   "cell_type": "code",
   "execution_count": 22,
   "metadata": {},
   "outputs": [],
   "source": [
    "clf = joblib.load(path to the trained SVM model')\n",
    "ypred=clf.predict(df_data.iloc[:,0:6])"
   ]
  },
  {
   "cell_type": "code",
   "execution_count": 23,
   "metadata": {},
   "outputs": [
    {
     "name": "stdout",
     "output_type": "stream",
     "text": [
      "accuracy:0.236 F1-score:0.236\n"
     ]
    }
   ],
   "source": [
    "from sklearn.metrics import f1_score\n",
    "\n",
    "accuracy = acc(ypred,df_data.iloc[:,6])\n",
    "f1score = f1_score(df_data.iloc[:,6],ypred,average='micro')\n",
    "print('accuracy:{:.3f} F1-score:{:.3f}'.format(accuracy,f1score))"
   ]
  },
  {
   "cell_type": "code",
   "execution_count": 24,
   "metadata": {},
   "outputs": [],
   "source": [
    "from sklearn.metrics import confusion_matrix\n",
    "import matplotlib.pyplot as plt\n",
    "import seaborn as sns "
   ]
  },
  {
   "cell_type": "code",
   "execution_count": 25,
   "metadata": {},
   "outputs": [
    {
     "data": {
      "image/png": "[encoded data removed]",
      "text/plain": [
       "<Figure size 432x288 with 1 Axes>"
      ]
     },
     "metadata": {
      "needs_background": "light"
     },
     "output_type": "display_data"
    }
   ],
   "source": [
    "mat = confusion_matrix(df_data.iloc[:,6],ypred)\n",
    "sns.heatmap(mat,cmap='binary', square= True, annot=True, fmt='d', xticklabels=['S/G2/M','G1'], yticklabels=['S/G2/M','G1'], cbar= False)\n",
    "plt.xlabel(\"predicted\")\n",
    "plt.ylabel(\"true\")\n",
    "plt.show()"
   ]
  }
 ],
 "metadata": {
  "kernelspec": {
   "display_name": "Python 3",
   "language": "python",
   "name": "python3"
  },
  "language_info": {
   "codemirror_mode": {
    "name": "ipython",
    "version": 3
   },
   "file_extension": ".py",
   "mimetype": "text/x-python",
   "name": "python",
   "nbconvert_exporter": "python",
   "pygments_lexer": "ipython3",
   "version": "3.8.3"
  }
 },
 "nbformat": 4,
 "nbformat_minor": 5
}
