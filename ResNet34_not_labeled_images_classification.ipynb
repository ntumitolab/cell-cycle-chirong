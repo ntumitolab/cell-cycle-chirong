{
 "cells": [
  {
   "cell_type": "code",
   "execution_count": 1,
   "metadata": {},
   "outputs": [],
   "source": [
    "import numpy as np\n",
    "import tifffile\n",
    "import os\n",
    "import pandas as pd\n",
    "import glob\n",
    "import random\n",
    "import torch\n",
    "import torch.nn as nn\n",
    "import torchvision.models as models\n",
    "import torch.optim as optim"
   ]
  },
  {
   "cell_type": "code",
   "execution_count": 2,
   "metadata": {},
   "outputs": [],
   "source": [
    "def same_seeds(seed):\n",
    "    # Python built-in random module\n",
    "    random.seed(seed)\n",
    "    # Numpy\n",
    "    np.random.seed(seed)\n",
    "    # Torch\n",
    "    torch.manual_seed(seed)\n",
    "    if torch.cuda.is_available():\n",
    "        torch.cuda.manual_seed(seed)\n",
    "        torch.cuda.manual_seed_all(seed)\n",
    "    torch.backends.cudnn.benchmark = False\n",
    "    torch.backends.cudnn.deterministic = True\n",
    "\n",
    "same_seeds(5)"
   ]
  },
  {
   "cell_type": "code",
   "execution_count": 3,
   "metadata": {},
   "outputs": [
    {
     "name": "stdout",
     "output_type": "stream",
     "text": [
      "cuda:1\n"
     ]
    }
   ],
   "source": [
    "def set_device():\n",
    "    if torch.cuda.is_available():\n",
    "        device = torch.device('cuda:1')\n",
    "    else:\n",
    "        device = torch.device('cpu')\n",
    "        \n",
    "    print(device)\n",
    "\n",
    "    return device\n",
    "\n",
    "\n",
    "device = set_device()"
   ]
  },
  {
   "cell_type": "code",
   "execution_count": 50,
   "metadata": {},
   "outputs": [],
   "source": [
    "def test_transform(img):\n",
    "    x = np.zeros(img.shape,dtype=np.float32)\n",
    "    for i in range(img.shape[0]):\n",
    "        if img[i].min() >= 0:\n",
    "            img[i]/=255\n",
    "        else:\n",
    "            img[i] = (img[i] - img[i].min())/(img[i].max()-img[i].min())\n",
    "        \n",
    "        m = img[i].mean()\n",
    "        s = img[i].std()\n",
    "        x[i] = (img[i]-m)/s\n",
    "    \n",
    "    x = torch.tensor(x,dtype=torch.float32)\n",
    "\n",
    "    return x\n",
    "\n",
    "class test_cycledataset():\n",
    "    def __init__(self,filelist,transform):\n",
    "        self.filelist = filelist\n",
    "        self.transform = transform\n",
    "\n",
    "        \n",
    "    def __getitem__(self,index):\n",
    "        if isinstance(self.filelist,list):\n",
    "            # order of channel: (nucleus, mitochondria, bright-field)\n",
    "            #                   (nucleus, bright-field, predicted mitochondria)\n",
    "            # It is necessary to follow the above order.\n",
    "                         \n",
    "            img = tifffile.imread(self.filelist[index])\n",
    "            # img channel: (nucleus,mitochondria,bright-field,predicted mito)\n",
    "            \n",
    "#             img = img[0:3]  #(nucleus, mitochondria, bright-field)\n",
    "            img = np.concatenate((img[0:2],np.expand_dims(img[3],axis=0)),axis=0)\n",
    "            # (nucleus, bright-field, predicted mitochondria)\n",
    "            \n",
    "            img = self.transform(img)\n",
    "            return img.to(device)\n",
    "\n",
    "        else:\n",
    "            img = tifffile.imread(self.filelist.iloc[index,0])\n",
    "            # img channel: (nucleus,mitochondria,bright-field,predicted mito)\n",
    "\n",
    "#             img = img[0:3]  #(nucleus, mitochondria, bright-field)\n",
    "            img = np.concatenate((img[0:2],np.expand_dims(img[3],axis=0)),axis=0)\n",
    "            # (nucleus, bright-field, predicted mitochondria)\n",
    "            \n",
    "            img = self.transform(img)\n",
    "            return img.to(device)\n",
    "    \n",
    "    def getbatch(self,indices):\n",
    "        filepath = []\n",
    "        for index in indices:\n",
    "            filepath.append(filelist[index])\n",
    "        return filepath\n",
    "                        \n",
    "    def __len__(self):\n",
    "        if isinstance(self.filelist,list): \n",
    "            return len(self.filelist)\n",
    "        else: \n",
    "            return self.filelist.shape[0]"
   ]
  },
  {
   "cell_type": "code",
   "execution_count": 51,
   "metadata": {},
   "outputs": [
    {
     "name": "stdout",
     "output_type": "stream",
     "text": [
      "number of test set:5\n"
     ]
    }
   ],
   "source": [
    "\n",
    "\n",
    "#test = glob.glob('path to tiff files')\n",
    "test = pd.read_csv(r\"path to csv file of test data set\")\n",
    "print(f'number of test set:{len(test)}')\n",
    "testdataset = test_cycledataset(test, test_transform)\n",
    "\n",
    "from torch.utils.data import DataLoader\n",
    "\n",
    "bs = 64\n",
    "\n",
    "testdataloader = DataLoader(testdataset,batch_size=bs)"
   ]
  },
  {
   "cell_type": "code",
   "execution_count": 52,
   "metadata": {},
   "outputs": [],
   "source": [
    "classifier = models.resnet34()"
   ]
  },
  {
   "cell_type": "code",
   "execution_count": 53,
   "metadata": {},
   "outputs": [],
   "source": [
    "classifier.fc = torch.nn.Sequential(\n",
    "    torch.nn.Linear(512,2,bias=True)\n",
    ")"
   ]
  },
  {
   "cell_type": "code",
   "execution_count": 54,
   "metadata": {},
   "outputs": [],
   "source": [
    "# remember to change the folder name\n",
    "\n",
    "save_dir = r\"path to the folder\"\n",
    "if not os.path.exists(save_dir):\n",
    "    os.makedirs(save_dir)"
   ]
  },
  {
   "cell_type": "code",
   "execution_count": 55,
   "metadata": {},
   "outputs": [],
   "source": [
    "classifier.load_state_dict(torch.load('path to the trained model',map_location=device))\n",
    "classifier.to(device)\n",
    "classifier.eval()\n",
    "\n",
    "y_pred = torch.tensor([])\n",
    "\n",
    "for i, x in enumerate(testdataloader):\n",
    "    with torch.no_grad():\n",
    "        yhat = classifier(x)\n",
    "        p = torch.max(yhat,1)[1]  # return the index of maximum (max prob after sofmax)\n",
    "        y_pred = torch.cat([y_pred,p.cpu()])"
   ]
  },
  {
   "cell_type": "code",
   "execution_count": 56,
   "metadata": {},
   "outputs": [
    {
     "data": {
      "text/plain": [
       "tensor([0., 0., 0., 0., 0.])"
      ]
     },
     "execution_count": 56,
     "metadata": {},
     "output_type": "execute_result"
    }
   ],
   "source": [
    "y_pred"
   ]
  },
  {
   "cell_type": "code",
   "execution_count": 57,
   "metadata": {},
   "outputs": [],
   "source": [
    "if isinstance(test,list):\n",
    "    df = pd.DataFrame({'path':test,'prediction':y_pred})\n",
    "else:\n",
    "    df = pd.DataFrame({'path':test['path'],'prediction':y_pred})"
   ]
  },
  {
   "cell_type": "code",
   "execution_count": 58,
   "metadata": {},
   "outputs": [],
   "source": [
    "df.to_csv(save_dir+'pdmito_label_prediction.csv',index=False)"
   ]
  },
  {
   "cell_type": "code",
   "execution_count": null,
   "metadata": {},
   "outputs": [],
   "source": []
  }
 ],
 "metadata": {
  "kernelspec": {
   "display_name": "Python 3",
   "language": "python",
   "name": "python3"
  },
  "language_info": {
   "codemirror_mode": {
    "name": "ipython",
    "version": 3
   },
   "file_extension": ".py",
   "mimetype": "text/x-python",
   "name": "python",
   "nbconvert_exporter": "python",
   "pygments_lexer": "ipython3",
   "version": "3.8.3"
  }
 },
 "nbformat": 4,
 "nbformat_minor": 4
}
