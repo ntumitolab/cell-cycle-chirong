{
 "cells": [
  {
   "cell_type": "code",
   "execution_count": 1,
   "metadata": {},
   "outputs": [],
   "source": [
    "import numpy as np\n",
    "import tifffile\n",
    "import os\n",
    "import pandas as pd\n",
    "import glob\n",
    "import random\n",
    "import torch\n",
    "import torch.nn as nn\n",
    "import torchvision.models as models\n",
    "import torch.optim as optim\n",
    "from sklearn.model_selection import train_test_split\n",
    "from sklearn.metrics import f1_score"
   ]
  },
  {
   "cell_type": "code",
   "execution_count": 2,
   "metadata": {},
   "outputs": [],
   "source": [
    "def same_seeds(seed):\n",
    "    # Python built-in random module\n",
    "    random.seed(seed)\n",
    "    # Numpy\n",
    "    np.random.seed(seed)\n",
    "    # Torch\n",
    "    torch.manual_seed(seed)\n",
    "    if torch.cuda.is_available():\n",
    "        torch.cuda.manual_seed(seed)\n",
    "        torch.cuda.manual_seed_all(seed)\n",
    "    torch.backends.cudnn.benchmark = False\n",
    "    torch.backends.cudnn.deterministic = True\n",
    "\n",
    "same_seeds(5)"
   ]
  },
  {
   "cell_type": "code",
   "execution_count": 3,
   "metadata": {},
   "outputs": [
    {
     "name": "stdout",
     "output_type": "stream",
     "text": [
      "cuda:1\n"
     ]
    }
   ],
   "source": [
    "def set_device():\n",
    "    if torch.cuda.is_available():\n",
    "        device = torch.device('cuda:1')\n",
    "    else:\n",
    "        device = torch.device('cpu')\n",
    "        \n",
    "    print(device)\n",
    "\n",
    "    return device\n",
    "\n",
    "\n",
    "device = set_device()"
   ]
  },
  {
   "cell_type": "code",
   "execution_count": 6,
   "metadata": {},
   "outputs": [],
   "source": [
    "def test_transform(img):\n",
    "    x = np.zeros(img.shape,dtype=np.float32)\n",
    "    for i in range(img.shape[0]):\n",
    "        if img[i].min() >= 0:\n",
    "            img[i]/=255\n",
    "        else:\n",
    "            img[i] = (img[i] - img[i].min())/(img[i].max()-img[i].min())\n",
    "        \n",
    "        m = img[i].mean()\n",
    "        s = img[i].std()\n",
    "        x[i] = (img[i]-m)/s\n",
    "    \n",
    "    x = torch.tensor(x,dtype=torch.float32)\n",
    "\n",
    "    return x\n",
    "\n",
    "class test_cycledataset():\n",
    "    def __init__(self,filelist,transform):\n",
    "        self.filelist = filelist\n",
    "        self.transform = transform\n",
    "\n",
    "        \n",
    "    def __getitem__(self,index):\n",
    "        if isinstance(self.filelist,list):\n",
    "            # order of channel: (nucleus, mitochondria, bright-field)\n",
    "            # It is necessary to follow the above order.\n",
    "                         \n",
    "            img = tifffile.imread(self.filelist[index])\n",
    "\n",
    "            \n",
    "            img = np.concatenate((img[0:2],np.expand_dims(img[4],axis=0)),axis=0)  #(nucleus, mitochondria, bright-field)\n",
    "            img = self.transform(img)\n",
    "            return img.to(device)\n",
    "\n",
    "        else:\n",
    "            img = tifffile.imread(self.filelist.iloc[index,0])\n",
    "\n",
    "            img = np.concatenate((img[0:2],np.expand_dims(img[4],axis=0)),axis=0)  #(nucleus, mitochondria, bright-field)\n",
    "            img = self.transform(img)\n",
    "            return img.to(device)\n",
    "                        \n",
    "    def __len__(self):\n",
    "        if isinstance(self.filelist,list): \n",
    "            return len(self.filelist)\n",
    "        else: \n",
    "            return self.filelist.shape[0]"
   ]
  },
  {
   "cell_type": "code",
   "execution_count": 7,
   "metadata": {},
   "outputs": [
    {
     "name": "stdout",
     "output_type": "stream",
     "text": [
      "number of test set:148\n"
     ]
    }
   ],
   "source": [
    "#test = glob.glob('path to the tiff files')\n",
    "test = pd.read_csv('path to the csv file of test data set')\n",
    "print(f'number of test set:{len(test)}')\n",
    "testdataset = test_cycledataset(test, test_transform)\n",
    "\n",
    "from torch.utils.data import DataLoader\n",
    "\n",
    "bs = 64\n",
    "\n",
    "testdataloader = DataLoader(testdataset,batch_size=bs)\n"
   ]
  },
  {
   "cell_type": "code",
   "execution_count": 8,
   "metadata": {},
   "outputs": [],
   "source": [
    "classifier = models.resnet34()"
   ]
  },
  {
   "cell_type": "code",
   "execution_count": 9,
   "metadata": {},
   "outputs": [],
   "source": [
    "classifier.fc = torch.nn.Sequential(\n",
    "    torch.nn.Linear(512,2,bias=True)\n",
    ")\n"
   ]
  },
  {
   "cell_type": "code",
   "execution_count": 10,
   "metadata": {},
   "outputs": [],
   "source": [
    "# remember to change the folder name\n",
    "\n",
    "save_dir = 'path to the folder'\n",
    "if not os.path.exists(save_dir):\n",
    "    os.makedirs(save_dir)"
   ]
  },
  {
   "cell_type": "code",
   "execution_count": 11,
   "metadata": {},
   "outputs": [],
   "source": [
    "\n",
    "classifier.load_state_dict(torch.load('path to the trained model',map_location=device))\n",
    "classifier.to(device)\n",
    "classifier.eval()\n",
    "\n",
    "y_pred = torch.tensor([])\n",
    "\n",
    "for i, x in enumerate(testdataloader):\n",
    "    with torch.no_grad():\n",
    "        yhat = classifier(x)\n",
    "        p = torch.max(yhat,1)[1]  # return the index of maximum (max prob after sofmax)\n",
    "        y_pred = torch.cat([y_pred,p.cpu()])"
   ]
  },
  {
   "cell_type": "code",
   "execution_count": 12,
   "metadata": {},
   "outputs": [
    {
     "data": {
      "text/plain": [
       "tensor([0., 0., 0., 0., 0., 0., 0., 1., 0., 0., 0., 0., 0., 0., 0., 0., 0., 1.,\n",
       "        0., 0., 0., 0., 0., 0., 0., 0., 0., 0., 1., 0., 0., 0., 0., 0., 0., 1.,\n",
       "        1., 1., 0., 0., 0., 0., 0., 0., 0., 0., 0., 0., 0., 0., 0., 0., 0., 0.,\n",
       "        0., 0., 0., 0., 0., 1., 0., 0., 0., 0., 0., 0., 0., 0., 0., 0., 0., 0.,\n",
       "        0., 0., 0., 0., 0., 0., 0., 0., 0., 0., 0., 0., 0., 0., 0., 0., 0., 0.,\n",
       "        0., 0., 0., 0., 0., 1., 0., 0., 0., 0., 0., 0., 0., 0., 1., 0., 0., 0.,\n",
       "        0., 0., 0., 0., 0., 0., 0., 0., 0., 0., 0., 0., 1., 0., 0., 0., 0., 0.,\n",
       "        0., 0., 0., 0., 0., 0., 0., 0., 0., 0., 0., 0., 0., 0., 0., 0., 0., 0.,\n",
       "        0., 0., 0., 0.])"
      ]
     },
     "execution_count": 12,
     "metadata": {},
     "output_type": "execute_result"
    }
   ],
   "source": [
    "y_pred"
   ]
  },
  {
   "cell_type": "code",
   "execution_count": 14,
   "metadata": {},
   "outputs": [],
   "source": [
    "if isinstance(test,list):\n",
    "    df = pd.DataFrame({'path':test,'prediction':y_pred})\n",
    "else:\n",
    "    df = pd.DataFrame({'path':test['path'],'prediction':y_pred})"
   ]
  },
  {
   "cell_type": "code",
   "execution_count": 15,
   "metadata": {},
   "outputs": [],
   "source": [
    "\n",
    "df.to_csv(save_dir+'label_prediction.csv',index=False)"
   ]
  },
  {
   "cell_type": "code",
   "execution_count": 19,
   "metadata": {},
   "outputs": [],
   "source": [
    "def accuracy(df):\n",
    "    n = df.shape[0]\n",
    "    acc = 0\n",
    "    label = []\n",
    "    for i in range(n):\n",
    "        if 'rfp' in df.loc[i,'path']:\n",
    "            label.append(1)\n",
    "            if df.loc[i,'prediction'] == 1:\n",
    "                acc += 1\n",
    "        else:\n",
    "            label.append(0)\n",
    "            if df.loc[i,'prediction'] == 0:\n",
    "                acc += 1\n",
    "\n",
    "    f1score = f1_score(label,y_pred,average='micro')\n",
    "    return [acc/n, f1score, label]"
   ]
  },
  {
   "cell_type": "code",
   "execution_count": 20,
   "metadata": {},
   "outputs": [
    {
     "name": "stdout",
     "output_type": "stream",
     "text": [
      "test acc:0.74\n",
      "test f1 score:0.74\n"
     ]
    }
   ],
   "source": [
    "test_acc,test_f1score, label = accuracy(df)\n",
    "\n",
    "print('test acc:{:.2f}'.format(test_acc))\n",
    "print('test f1 score:{:.2f}'.format(test_f1score))\n",
    "\n",
    "\n",
    "\n",
    "with open(save_dir+'accuracy.txt','w') as file:\n",
    "    file.write('test acc:{:.2f}\\n'.format(test_acc))\n",
    "    file.write('test f1 score:{:.2f}\\n'.format(test_f1score))"
   ]
  },
  {
   "cell_type": "code",
   "execution_count": 22,
   "metadata": {},
   "outputs": [
    {
     "data": {
      "image/png": "[encoded data removed]",
      "text/plain": [
       "<Figure size 360x360 with 1 Axes>"
      ]
     },
     "metadata": {
      "needs_background": "light"
     },
     "output_type": "display_data"
    }
   ],
   "source": [
    "from sklearn.metrics import confusion_matrix\n",
    "import matplotlib.pyplot as plt\n",
    "import seaborn as sns \n",
    "\n",
    "\n",
    "mat = confusion_matrix(label,df['prediction'])\n",
    "plt.figure(figsize = (5,5))\n",
    "sns.heatmap(mat,cmap='binary', square= True, annot=True, fmt='d', xticklabels=['S/G2/M','G1'], yticklabels=['S/G2/M','G1'], cbar= False)\n",
    "plt.xlabel(\"prediction\")\n",
    "plt.ylabel(\"true\")\n",
    "plt.savefig(save_dir+'confusion_matrix.png')\n",
    "plt.show()"
   ]
  },
  {
   "cell_type": "code",
   "execution_count": null,
   "metadata": {},
   "outputs": [],
   "source": []
  }
 ],
 "metadata": {
  "kernelspec": {
   "display_name": "Python 3",
   "language": "python",
   "name": "python3"
  },
  "language_info": {
   "codemirror_mode": {
    "name": "ipython",
    "version": 3
   },
   "file_extension": ".py",
   "mimetype": "text/x-python",
   "name": "python",
   "nbconvert_exporter": "python",
   "pygments_lexer": "ipython3",
   "version": "3.8.3"
  }
 },
 "nbformat": 4,
 "nbformat_minor": 5
}
