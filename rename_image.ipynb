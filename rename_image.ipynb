{
 "cells": [
  {
   "cell_type": "code",
   "execution_count": 1,
   "metadata": {},
   "outputs": [],
   "source": [
    "import glob\n",
    "import tifffile\n",
    "import numpy as np\n",
    "import pandas as pd\n",
    "import os"
   ]
  },
  {
   "cell_type": "code",
   "execution_count": 2,
   "metadata": {},
   "outputs": [],
   "source": [
    "filelist = pd.read_csv('D:/YR_classification/data/csvs/test.csv')"
   ]
  },
  {
   "cell_type": "code",
   "execution_count": 3,
   "metadata": {},
   "outputs": [],
   "source": [
    "# for pandas.Dataframe\n",
    "save_dir = 'D:/YR_classification/data/SVM/test/mito/'\n",
    "if not os.path.exists(save_dir):\n",
    "    os.makedirs(save_dir)\n",
    "for i in range(filelist.shape[0]):\n",
    "    img = tifffile.imread('D:/YR_classification/'+filelist.iloc[i,0])[1].astype(np.int8)\n",
    "    \n",
    "    a = filelist.iloc[i,0].split('/') \n",
    "    name = a[2] +'_' + a[3] + '_' + a[4] + '_' + a[5] \n",
    "    \n",
    "    tifffile.imwrite(save_dir+name,img,photometric='minisblack')"
   ]
  },
  {
   "cell_type": "code",
   "execution_count": 12,
   "metadata": {},
   "outputs": [],
   "source": [
    "# for glob\n",
    "for i in range(len(filelist)):\n",
    "    img = tifffile.imread(filelist[i])[1].astype(np.int8)\n",
    "    a = filelist[i].split('\\\\')                      \n",
    "    name = a[0] + '/' + a[1] +'_' + a[2] + '_' + a[3] + '_' + a[4]\n",
    "    tifffile.imwrite(name,img,photometric='minisblack')"
   ]
  },
  {
   "cell_type": "code",
   "execution_count": null,
   "metadata": {},
   "outputs": [],
   "source": []
  }
 ],
 "metadata": {
  "kernelspec": {
   "display_name": "Python 3",
   "language": "python",
   "name": "python3"
  },
  "language_info": {
   "codemirror_mode": {
    "name": "ipython",
    "version": 3
   },
   "file_extension": ".py",
   "mimetype": "text/x-python",
   "name": "python",
   "nbconvert_exporter": "python",
   "pygments_lexer": "ipython3",
   "version": "3.8.3"
  }
 },
 "nbformat": 4,
 "nbformat_minor": 4
}
