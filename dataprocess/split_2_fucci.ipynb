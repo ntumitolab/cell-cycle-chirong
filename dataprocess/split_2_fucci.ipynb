{
 "cells": [
  {
   "cell_type": "code",
   "execution_count": 1,
   "metadata": {},
   "outputs": [],
   "source": [
    "import numpy as np\n",
    "from aicsimageio import AICSImage\n",
    "import tifffile\n",
    "import glob\n",
    "import os"
   ]
  },
  {
   "cell_type": "code",
   "execution_count": 2,
   "metadata": {},
   "outputs": [],
   "source": [
    "# path to the raw data\n",
    "file_path = r'D:/image/20210608/two-color.czi'"
   ]
  },
  {
   "cell_type": "code",
   "execution_count": 3,
   "metadata": {},
   "outputs": [],
   "source": [
    "date = file_path.split('/')[2] # uasually the raw data is in the directory naemed after the date I shot it.\n",
    "p = r'D:/allen/data/mydata/ac_time_seperated/' # processed data will be save in this directory.\n",
    "save_dir = os.path.join(p,date)\n",
    "if not os.path.exists(save_dir):\n",
    "    os.makedirs(save_dir)"
   ]
  },
  {
   "cell_type": "code",
   "execution_count": 4,
   "metadata": {},
   "outputs": [],
   "source": [
    "cy5_dir = os.path.join(save_dir,'cy5')\n",
    "cy3_dir = os.path.join(save_dir,'cy3')\n",
    "gfp_dir = os.path.join(save_dir,'gfp')\n",
    "bf_dir = os.path.join(save_dir,'bf')\n",
    "\n",
    "if not os.path.exists(cy3_dir):\n",
    "    os.makedirs(cy3_dir)\n",
    "if not os.path.exists(cy5_dir):\n",
    "    os.makedirs(cy5_dir)\n",
    "if not os.path.exists(bf_dir):\n",
    "    os.makedirs(bf_dir)\n",
    "if not os.path.exists(gfp_dir):\n",
    "    os.makedirs(gfp_dir)"
   ]
  },
  {
   "cell_type": "code",
   "execution_count": 5,
   "metadata": {},
   "outputs": [
    {
     "name": "stderr",
     "output_type": "stream",
     "text": [
      "C:\\ProgramData\\Anaconda3\\lib\\site-packages\\aicsimageio\\transforms.py:177: UserWarning: Data has dimension H with depth 1, assuming H=0 is the desired value, if not the case specify H=x where x is an integer, list, tuple, range, or slice.\n",
      "  warnings.warn(\n"
     ]
    }
   ],
   "source": [
    "file = AICSImage(file_path).data # read image ('.data': file is a numerical array, not containing metadata of the czi file.)"
   ]
  },
  {
   "cell_type": "code",
   "execution_count": 6,
   "metadata": {},
   "outputs": [],
   "source": [
    "# the order of channel: mitochondria(cy5), FUCCI-RFP(cy3), bright-field, FUCCI-GFP\n",
    "# remember to change the number if the image channels are not acquired as the above order.\n",
    "# 0 is the first index.\n",
    "\n",
    "cy5_channel = 0\n",
    "cy3_channel = 1\n",
    "bf_channel = 2\n",
    "gfp_channel = 3\n",
    "\n",
    "# image dimension: (scence,time,channel,z,y,x)"
   ]
  },
  {
   "cell_type": "code",
   "execution_count": 7,
   "metadata": {},
   "outputs": [],
   "source": [
    "# for cy3 channel\n",
    "for i in range(file.shape[0]):\n",
    "    if not os.path.exists(os.path.join(cy3_dir, str(i+1))):\n",
    "        os.makedirs(os.path.join(cy3_dir, str(i+1)))\n",
    "    for j in range(file.shape[1]):\n",
    "        img = file[i,j,cy3_channel,0,:,:]\n",
    "        name = 't=' + str(j+1) + '.tiff'\n",
    "        tifffile.imwrite(os.path.join(cy3_dir,str(i+1), name),img, photometric='minisblack', metadata={'axes': 'YX', 'imagej':True, 'unit':'um', 'finterval':900})"
   ]
  },
  {
   "cell_type": "code",
   "execution_count": 8,
   "metadata": {},
   "outputs": [],
   "source": [
    "# for cy5 channel\n",
    "for i in range(file.shape[0]):\n",
    "    if not os.path.exists(os.path.join(cy5_dir, str(i+1))):\n",
    "        os.makedirs(os.path.join(cy5_dir, str(i+1)))\n",
    "    for j in range(file.shape[1]):\n",
    "        img = file[i,j,cy5_channel,0,:,:]\n",
    "        name = 't=' + str(j+1) + '.tiff'\n",
    "        tifffile.imwrite(os.path.join(cy5_dir,str(i+1), name),img, photometric='minisblack', metadata={'axes': 'YX', 'imagej':True, 'unit':'um', 'finterval':900})"
   ]
  },
  {
   "cell_type": "code",
   "execution_count": 9,
   "metadata": {},
   "outputs": [],
   "source": [
    "# for bf channel\n",
    "for i in range(file.shape[0]):\n",
    "    if not os.path.exists(os.path.join(bf_dir, str(i+1))):\n",
    "        os.makedirs(os.path.join(bf_dir, str(i+1)))\n",
    "    for j in range(file.shape[1]):\n",
    "        img = file[i,j,bf_channel,0,:,:]\n",
    "        name = 't=' + str(j+1) + '.tiff'\n",
    "        tifffile.imwrite(os.path.join(bf_dir,str(i+1), name),img, photometric='minisblack', metadata={'axes': 'YX', 'imagej':True, 'unit':'um', 'finterval':900})"
   ]
  },
  {
   "cell_type": "code",
   "execution_count": 10,
   "metadata": {},
   "outputs": [],
   "source": [
    "# for gfp channel\n",
    "for i in range(file.shape[0]):\n",
    "    if not os.path.exists(os.path.join(gfp_dir, str(i+1))):\n",
    "        os.makedirs(os.path.join(gfp_dir, str(i+1)))\n",
    "    for j in range(file.shape[1]):\n",
    "        img = file[i,j,gfp_channel,0,:,:]\n",
    "        name = 't=' + str(j+1) + '.tiff'\n",
    "        tifffile.imwrite(os.path.join(gfp_dir,str(i+1), name),img, photometric='minisblack', metadata={'axes': 'YX', 'imagej':True, 'unit':'um', 'finterval':900})"
   ]
  },
  {
   "cell_type": "code",
   "execution_count": 11,
   "metadata": {},
   "outputs": [
    {
     "data": {
      "text/plain": [
       "1260"
      ]
     },
     "execution_count": 11,
     "metadata": {},
     "output_type": "execute_result"
    }
   ],
   "source": [
    "# release memory\n",
    "\n",
    "del file\n",
    "del img\n",
    "\n",
    "import gc\n",
    "gc.collect()"
   ]
  },
  {
   "cell_type": "code",
   "execution_count": null,
   "metadata": {},
   "outputs": [],
   "source": []
  }
 ],
 "metadata": {
  "kernelspec": {
   "display_name": "Python 3",
   "language": "python",
   "name": "python3"
  },
  "language_info": {
   "codemirror_mode": {
    "name": "ipython",
    "version": 3
   },
   "file_extension": ".py",
   "mimetype": "text/x-python",
   "name": "python",
   "nbconvert_exporter": "python",
   "pygments_lexer": "ipython3",
   "version": "3.8.3"
  }
 },
 "nbformat": 4,
 "nbformat_minor": 4
}
