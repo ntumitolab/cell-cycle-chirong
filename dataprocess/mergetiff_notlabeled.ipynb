{
 "cells": [
  {
   "cell_type": "code",
   "execution_count": 1,
   "metadata": {},
   "outputs": [],
   "source": [
    "import tifffile\n",
    "import numpy as np\n",
    "import glob\n",
    "import os\n",
    "import matplotlib.pyplot as plt"
   ]
  },
  {
   "cell_type": "code",
   "execution_count": 2,
   "metadata": {},
   "outputs": [],
   "source": [
    "date = r'D:/allen/data/mydata/ac_time_seperated/20220412/'\n",
    "dir_list = glob.glob(date+'bf/*')\n",
    "dir_len = len(dir_list)"
   ]
  },
  {
   "cell_type": "code",
   "execution_count": 9,
   "metadata": {},
   "outputs": [
    {
     "name": "stdout",
     "output_type": "stream",
     "text": [
      "saved scence 1, shape:(68, 5, 1024, 1024)\n",
      "saved scence 2, shape:(68, 5, 1024, 1024)\n",
      "saved scence 3, shape:(68, 5, 1024, 1024)\n",
      "saved scence 4, shape:(68, 5, 1024, 1024)\n",
      "saved scence 5, shape:(68, 5, 1024, 1024)\n",
      "saved scence 6, shape:(68, 5, 1024, 1024)\n",
      "saved scence 7, shape:(68, 5, 1024, 1024)\n",
      "saved scence 8, shape:(68, 5, 1024, 1024)\n",
      "saved scence 9, shape:(68, 5, 1024, 1024)\n",
      "saved scence 10, shape:(68, 5, 1024, 1024)\n"
     ]
    }
   ],
   "source": [
    "for di in range(1,dir_len+1):\n",
    "    bf = glob.glob(date+'bf/'+str(di)+'/*.tiff')\n",
    "    cy5 = glob.glob(date+'cy5/'+str(di)+'/*.tiff')\n",
    "    nuclei = glob.glob(date + 'nuclei/' + str(di) + '/*.tiff')\n",
    "    nuclei_b = glob.glob(date+'nuclei_blured/'+str(di)+'/*.tiff')\n",
    "    pdmito = glob.glob(date+'pdmito/'+str(di)+'/*.tiff')\n",
    "    index_list = []\n",
    "    for i in range(len(bf)):\n",
    "        s = 't=' + str(i+1)\n",
    "        for j in range(len(bf)):\n",
    "            if s in bf[j]: \n",
    "                index_list.append(j)\n",
    "                break\n",
    "    \n",
    "    save_dir = date + '/bf/' + str(di) + '/'\n",
    "    if not os.path.exists(save_dir):\n",
    "        os.makedirs(save_dir)\n",
    "    for i in range(len(index_list)):\n",
    "        if i == 0:\n",
    "            img = np.expand_dims(tifffile.imread(bf[index_list[i]]),axis=0)\n",
    "        else:\n",
    "            img = np.concatenate((img,np.expand_dims(tifffile.imread(bf[index_list[i]]),axis=0)))\n",
    "    tifffile.imwrite(save_dir+'merged.tif',img,photometric='minisblack', resolution=(1./0.260, 1./0.260))\n",
    "    \n",
    "    save_dir = date + '/pdmito/' + str(di) + '/'\n",
    "    if not os.path.exists(save_dir):\n",
    "        os.makedirs(save_dir)\n",
    "    for i in range(len(index_list)):\n",
    "        if i == 0:\n",
    "            img = np.expand_dims(tifffile.imread(pdmito[index_list[i]]),axis=0)\n",
    "        else:\n",
    "            img = np.concatenate((img,np.expand_dims(tifffile.imread(pdmito[index_list[i]]),axis=0)))\n",
    "    tifffile.imwrite(save_dir+'merged.tif',img,photometric='minisblack', resolution=(1./0.260, 1./0.260))\n",
    "    \n",
    "    save_dir = date + '/cy5/' + str(di) + '/'\n",
    "    if not os.path.exists(save_dir):\n",
    "        os.makedirs(save_dir)\n",
    "    for i in range(len(index_list)):\n",
    "        if i == 0:\n",
    "            img = np.expand_dims(tifffile.imread(cy5[index_list[i]]),axis=0)\n",
    "        else:\n",
    "            img = np.concatenate((img,np.expand_dims(tifffile.imread(cy5[index_list[i]]),axis=0)))\n",
    "    tifffile.imwrite(save_dir+'merged.tif',img,photometric='minisblack', resolution=(1./0.260, 1./0.260))\n",
    "    \n",
    "    save_dir = date + '/nuclei/' + str(di) + '/'\n",
    "    if not os.path.exists(save_dir):\n",
    "        os.makedirs(save_dir)\n",
    "    for i in range(len(index_list)):\n",
    "        if i == 0:\n",
    "            img = np.expand_dims(tifffile.imread(nuclei[index_list[i]]),axis=0)\n",
    "        else:\n",
    "            img = np.concatenate((img,np.expand_dims(tifffile.imread(nuclei[index_list[i]]),axis=0)))\n",
    "    tifffile.imwrite(save_dir+'merged.tif',img,photometric='minisblack', resolution=(1./0.260, 1./0.260))\n",
    "    \n",
    "    save_dir = date + '/nuclei_blured/' + str(di) + '/'\n",
    "    if not os.path.exists(save_dir):\n",
    "        os.makedirs(save_dir)\n",
    "    for i in range(len(index_list)):\n",
    "        if i == 0:\n",
    "            img = np.expand_dims(tifffile.imread(nuclei_b[index_list[i]]),axis=0)\n",
    "        else:\n",
    "            img = np.concatenate((img,np.expand_dims(tifffile.imread(nuclei_b[index_list[i]]),axis=0)))\n",
    "    tifffile.imwrite(save_dir+'merged.tif',img,photometric='minisblack', resolution=(1./0.260, 1./0.260))\n",
    "    \n",
    "    if not os.path.exists(date+'merged/'+str(di)+'/'):\n",
    "        os.makedirs(date+'merged/'+str(di)+'/')\n",
    "    bf = np.expand_dims(tifffile.imread(date+'bf/'+str(di)+'/merged.tif'),axis=1)\n",
    "    cy5 = np.expand_dims(tifffile.imread(date+'cy5/'+str(di)+'/merged.tif'),axis=1)\n",
    "    pdmito = tifffile.imread(date+'pdmito/'+str(di)+'/merged.tif')\n",
    "    nu = tifffile.imread(date+'nuclei/'+str(di)+'/merged.tif')\n",
    "    nb = tifffile.imread(date+'nuclei_blured/'+str(di)+'/merged.tif')\n",
    "    img = np.concatenate((nb,nu,cy5,bf,pdmito),axis=1)\n",
    "    tifffile.imwrite(date+'merged/'+str(di)+'/'+str(di)+'.tif',img,photometric='minisblack', resolution=(1./0.260, 1./0.260))\n",
    "    print('saved scence {}, shape:{}'.format(di,img.shape))"
   ]
  }
 ],
 "metadata": {
  "kernelspec": {
   "display_name": "Python 3",
   "language": "python",
   "name": "python3"
  },
  "language_info": {
   "codemirror_mode": {
    "name": "ipython",
    "version": 3
   },
   "file_extension": ".py",
   "mimetype": "text/x-python",
   "name": "python",
   "nbconvert_exporter": "python",
   "pygments_lexer": "ipython3",
   "version": "3.8.3"
  }
 },
 "nbformat": 4,
 "nbformat_minor": 4
}
